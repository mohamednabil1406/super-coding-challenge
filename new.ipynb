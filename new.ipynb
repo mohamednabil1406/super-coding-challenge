{
 "cells": [
  {
   "cell_type": "code",
   "execution_count": 2,
   "metadata": {},
   "outputs": [
    {
     "name": "stdout",
     "output_type": "stream",
     "text": [
      "2\n"
     ]
    }
   ],
   "source": [
    "s=\"mohamed\"\n",
    "char=\"m\"\n",
    "count=0\n",
    "for i in range(len(s)):\n",
    "    if s[i] == char:\n",
    "        count += 1\n",
    "print(count)\n"
   ]
  },
  {
   "cell_type": "code",
   "execution_count": 4,
   "metadata": {},
   "outputs": [
    {
     "name": "stdout",
     "output_type": "stream",
     "text": [
      "3\n"
     ]
    }
   ],
   "source": [
    "vowel = ['a', 'e', 'i', 'o', 'u']\n",
    "word = \"programming\"\n",
    "count = 0\n",
    "for character in word:\n",
    "    if character in vowel:\n",
    "        count += 1\n",
    "print(count)\n",
    "\n"
   ]
  },
  {
   "cell_type": "code",
   "execution_count": 6,
   "metadata": {},
   "outputs": [
    {
     "name": "stdout",
     "output_type": "stream",
     "text": [
      "8\n"
     ]
    }
   ],
   "source": [
    "vowel = ['a', 'e', 'i', 'o', 'u']\n",
    "word = \"programming\"\n",
    "count = 0\n",
    "for i in word:\n",
    "    if i not in vowel:\n",
    "        count += 1\n",
    "print(count)\n",
    "\n"
   ]
  },
  {
   "cell_type": "code",
   "execution_count": 8,
   "metadata": {},
   "outputs": [
    {
     "name": "stdout",
     "output_type": "stream",
     "text": [
      "0, 1, 1, 2, 3, 5, 8\n"
     ]
    }
   ],
   "source": [
    "fib = [0,1]\n",
    "# Range starts from 0 by default\n",
    "for i in range(5):  \n",
    "    fib.append(fib[-1] + fib[-2]) \n",
    "\n",
    "# Converting the list of integers to string\n",
    "print(', '.join(str(e) for e in fib))\n",
    "\n",
    "\n"
   ]
  },
  {
   "cell_type": "code",
   "execution_count": 9,
   "metadata": {},
   "outputs": [
    {
     "name": "stdout",
     "output_type": "stream",
     "text": [
      "125\n"
     ]
    }
   ],
   "source": [
    "numberList = [15, 85, 35, 89, 125]\n",
    "\n",
    "maxNum = numberList[0]\n",
    "for num in numberList:\n",
    "    if maxNum < num:\n",
    "        maxNum = num\n",
    "print(maxNum)\n",
    "\n"
   ]
  },
  {
   "cell_type": "code",
   "execution_count": 11,
   "metadata": {},
   "outputs": [
    {
     "name": "stdout",
     "output_type": "stream",
     "text": [
      "3\n"
     ]
    }
   ],
   "source": [
    "numList = [1, 2, 3, 4, 5]\n",
    "midElement = int((len(numList)/2)) \n",
    "\n",
    "print(numList[midElement])\n",
    "\n"
   ]
  },
  {
   "cell_type": "code",
   "execution_count": 12,
   "metadata": {},
   "outputs": [
    {
     "name": "stdout",
     "output_type": "stream",
     "text": [
      "PYTHON\n",
      "<class 'str'>\n"
     ]
    }
   ],
   "source": [
    "lst = [\"P\", \"Y\", \"T\", \"H\", \"O\", \"N\"]\n",
    "string = ''.join(lst)\n",
    "\n",
    "print(string)\n",
    "print(type(string))\n",
    "\n"
   ]
  },
  {
   "cell_type": "code",
   "execution_count": 13,
   "metadata": {},
   "outputs": [
    {
     "name": "stdout",
     "output_type": "stream",
     "text": [
      "1\n",
      "8\n",
      "2\n"
     ]
    }
   ],
   "source": [
    "# Importing Regular Expressions Library\n",
    "import re\n",
    "\n",
    "name = 'Python is 1'\n",
    "\n",
    "digitCount = re.sub(\"[^0-9]\", \"\", name)\n",
    "letterCount = re.sub(\"[^a-zA-Z]\", \"\", name)\n",
    "spaceCount = re.findall(\"[ \\n]\", name)\n",
    "\n",
    "print(len(digitCount))\n",
    "print(len(letterCount))\n",
    "print(len(spaceCount))\n",
    "    \n"
   ]
  },
  {
   "cell_type": "code",
   "execution_count": 17,
   "metadata": {},
   "outputs": [
    {
     "name": "stdout",
     "output_type": "stream",
     "text": [
      "  *  \n",
      " *** \n",
      "*****\n"
     ]
    }
   ],
   "source": [
    "floors = 3\n",
    "h = 2*floors-1\n",
    "for i in range(1, 2*floors, 2):\n",
    "    print('{:^{}}'.format('*'*i, h))\n",
    "\n"
   ]
  },
  {
   "cell_type": "code",
   "execution_count": 19,
   "metadata": {},
   "outputs": [
    {
     "name": "stdout",
     "output_type": "stream",
     "text": [
      "[1, 2, 3, 4, 5]\n"
     ]
    }
   ],
   "source": [
    "def remove_duplicates(lst):\n",
    "    return list(set(lst))\n",
    "\n",
    "# Example usage:\n",
    "print(remove_duplicates([1, 2, 2, 3, 4, 4, 5]))\n"
   ]
  },
  {
   "cell_type": "code",
   "execution_count": 22,
   "metadata": {},
   "outputs": [
    {
     "name": "stdout",
     "output_type": "stream",
     "text": [
      "0\n",
      "1\n",
      "1\n",
      "2\n",
      "3\n",
      "5\n",
      "8\n",
      "13\n",
      "21\n",
      "34\n"
     ]
    }
   ],
   "source": [
    "def fibonacci(n):\n",
    "    a, b = 0, 1\n",
    "    for i in range(n):\n",
    "        print(a)\n",
    "        a, b = b, a + b\n",
    "\n",
    "fibonacci(10)\n"
   ]
  },
  {
   "cell_type": "code",
   "execution_count": 23,
   "metadata": {},
   "outputs": [
    {
     "name": "stdout",
     "output_type": "stream",
     "text": [
      "True\n"
     ]
    }
   ],
   "source": [
    "def is_prime(n):\n",
    "    if n < 2:\n",
    "        return False\n",
    "    for i in range(2, int(n**0.5) + 1):\n",
    "        if n % i == 0:\n",
    "            return False\n",
    "    return True\n",
    "\n",
    "print(is_prime(7))  # True\n"
   ]
  },
  {
   "cell_type": "code",
   "execution_count": 26,
   "metadata": {},
   "outputs": [
    {
     "name": "stdout",
     "output_type": "stream",
     "text": [
      "0 1 1 2 3 5 8 13 21 34 "
     ]
    }
   ],
   "source": [
    "n=int(input(\"enter a number\"))\n",
    "a,b=0,1\n",
    "for i in range(n):\n",
    "    print(a,end=\" \")\n",
    "    a,b=b,a+b\n"
   ]
  },
  {
   "cell_type": "code",
   "execution_count": 44,
   "metadata": {},
   "outputs": [
    {
     "name": "stdout",
     "output_type": "stream",
     "text": [
      "1900 is NOT a Leap Year\n"
     ]
    }
   ],
   "source": [
    "year = int(input(\"Enter a year: \"))\n",
    "\n",
    "# Leap year conditions:\n",
    "if (year % 4 == 0 and year % 100 != 0) or (year % 400 == 0):\n",
    "    print(f\"{year} is a Leap Year\")\n",
    "else:\n",
    "    print(f\"{year} is NOT a Leap Year\")\n"
   ]
  },
  {
   "cell_type": "code",
   "execution_count": 46,
   "metadata": {},
   "outputs": [
    {
     "name": "stdout",
     "output_type": "stream",
     "text": [
      "153 is an Armstrong number\n"
     ]
    }
   ],
   "source": [
    "num = input(\"Enter a number: \")  # Input as a string\n",
    "digits = len(num)  # Count the number of digits\n",
    "\n",
    "# Compute the sum of each digit raised to the power of total digits\n",
    "sum_of_powers = sum(int(digit) ** digits for digit in num)\n",
    "\n",
    "# Check if the sum matches the original number\n",
    "if sum_of_powers == int(num):\n",
    "    print(f\"{num} is an Armstrong number\")\n",
    "else:\n",
    "    print(f\"{num} is NOT an Armstrong number\")\n"
   ]
  },
  {
   "cell_type": "code",
   "execution_count": 47,
   "metadata": {},
   "outputs": [
    {
     "name": "stdout",
     "output_type": "stream",
     "text": [
      "Even numbers count: 5\n"
     ]
    }
   ],
   "source": [
    "N = int(input(\"Enter N: \"))\n",
    "count = 0\n",
    "i = 1\n",
    "while i <= N:\n",
    "    if i % 2 == 0:\n",
    "        count += 1\n",
    "    i += 1\n",
    "print(\"Even numbers count:\", count)\n"
   ]
  },
  {
   "cell_type": "code",
   "execution_count": null,
   "metadata": {},
   "outputs": [],
   "source": [
    "N = int(input(\"Enter N: \"))\n",
    "if N < 2:\n",
    "    print(\"Not Prime\")\n",
    "elif all(N % i != 0 for i in range(2, int(N**0.5) + 1)):\n",
    "    print(\"Prime\")\n",
    "else:\n",
    "    print(\"Not Prime\")\n"
   ]
  },
  {
   "cell_type": "code",
   "execution_count": 3,
   "metadata": {},
   "outputs": [
    {
     "name": "stdout",
     "output_type": "stream",
     "text": [
      "2\n",
      "6\n",
      "9\n"
     ]
    }
   ],
   "source": [
    "n=[1,3,4,5,7,8,10]\n",
    "for i in range(1,11):\n",
    "    if i not in n:\n",
    "        print(i)\n"
   ]
  },
  {
   "cell_type": "code",
   "execution_count": 50,
   "metadata": {},
   "outputs": [
    {
     "name": "stdout",
     "output_type": "stream",
     "text": [
      "Not Prime\n"
     ]
    }
   ],
   "source": [
    "N = int(input(\"Enter N: \"))\n",
    "if N < 2:\n",
    "    print(\"Not Prime\")\n",
    "elif all(N % i != 0 for i in range(2, int(N**0.5) + 1)):\n",
    "    print(\"Prime\")\n",
    "else:\n",
    "    print(\"Not Prime\")\n"
   ]
  },
  {
   "cell_type": "code",
   "execution_count": 51,
   "metadata": {},
   "outputs": [
    {
     "name": "stdout",
     "output_type": "stream",
     "text": [
      "Factorial: 120\n"
     ]
    }
   ],
   "source": [
    "N = int(input(\"Enter N: \"))\n",
    "fact = 1\n",
    "for i in range(1, N + 1):\n",
    "    fact *= i\n",
    "print(f\"Factorial: {fact}\")\n"
   ]
  },
  {
   "cell_type": "code",
   "execution_count": 4,
   "metadata": {},
   "outputs": [
    {
     "name": "stdout",
     "output_type": "stream",
     "text": [
      "Area: 225\n"
     ]
    }
   ],
   "source": [
    "length=int(input(\"enter length of rectanle:\"))\n",
    "breadth=int(input(\"enter a breadth of rectangle\"))\n",
    "area=length*breadth\n",
    "print(f\"Area: {area}\")\n",
    "\n"
   ]
  }
 ],
 "metadata": {
  "kernelspec": {
   "display_name": "Python 3",
   "language": "python",
   "name": "python3"
  },
  "language_info": {
   "codemirror_mode": {
    "name": "ipython",
    "version": 3
   },
   "file_extension": ".py",
   "mimetype": "text/x-python",
   "name": "python",
   "nbconvert_exporter": "python",
   "pygments_lexer": "ipython3",
   "version": "3.13.1"
  }
 },
 "nbformat": 4,
 "nbformat_minor": 2
}
