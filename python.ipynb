{
 "cells": [
  {
   "cell_type": "code",
   "execution_count": 5,
   "metadata": {},
   "outputs": [
    {
     "name": "stdout",
     "output_type": "stream",
     "text": [
      "0 1 1 2 3 5 8 13 21 34 "
     ]
    }
   ],
   "source": [
    "#fibonnaci series \n",
    "n=int(input(\"enetr a number\"))\n",
    "a,b=0,1\n",
    "for i in range(n):\n",
    "    print(a, end=\" \")\n",
    "    a,b=b,a+b"
   ]
  },
  {
   "cell_type": "code",
   "execution_count": 8,
   "metadata": {},
   "outputs": [
    {
     "name": "stdout",
     "output_type": "stream",
     "text": [
      "[1, 2, 3, 4, 5, 6, 7, 8, 9, 10, 11]\n"
     ]
    }
   ],
   "source": [
    "new_array1 = [1, 2, 3, 4, 5, 6]\n",
    "new_array2 = [7, 8, 9, 10, 11]\n",
    "\n",
    "# Create a new array with the required size\n",
    "new_array = [0] * (len(new_array1) + len(new_array2))\n",
    "\n",
    "# Copy elements from new_array1\n",
    "for i in range(len(new_array1)):\n",
    "    new_array[i] = new_array1[i]\n",
    "\n",
    "# Copy elements from new_array2\n",
    "for i in range(len(new_array2)):\n",
    "    new_array[len(new_array1) + i] = new_array2[i]\n",
    "\n",
    "# Print the merged array\n",
    "print(new_array)\n"
   ]
  },
  {
   "cell_type": "code",
   "execution_count": null,
   "metadata": {},
   "outputs": [],
   "source": []
  },
  {
   "cell_type": "code",
   "execution_count": null,
   "metadata": {},
   "outputs": [
    {
     "name": "stdout",
     "output_type": "stream",
     "text": [
      "!       @   # . "
     ]
    }
   ],
   "source": [
    "# Input string\n",
    "text = \"Hello! Welcome to @2024 #Python.\"\n",
    "\n",
    "# Loop through each character\n",
    "for char in text:\n",
    "    # Check if the character is NOT a letter or a digit\n",
    "    if not ('A' <= char <= 'Z' or 'a' <= char <= 'z' or '0' <= char <= '9'):\n",
    "        print(char, end=\" \")  # Print non-alphanumeric characters\n"
   ]
  },
  {
   "cell_type": "code",
   "execution_count": 7,
   "metadata": {},
   "outputs": [
    {
     "name": "stdout",
     "output_type": "stream",
     "text": [
      "this year is leap year\n"
     ]
    }
   ],
   "source": [
    "year=int(input(\"enter a year\"))\n",
    "if (year%4==0 and year % 100!=0 )or (year%400==0):\n",
    "    print(\"this year is leap year\")\n",
    "else:\n",
    "    print(\"this year is not leap year\")"
   ]
  },
  {
   "cell_type": "code",
   "execution_count": 25,
   "metadata": {},
   "outputs": [
    {
     "name": "stdout",
     "output_type": "stream",
     "text": [
      "1\n",
      "2\n",
      "6\n",
      "24\n",
      "120\n"
     ]
    }
   ],
   "source": [
    "n = int(input(\"Enter number: \"))\n",
    "fact = 1\n",
    "for i in range(1, n + 1):\n",
    "    fact *= i \n",
    "    print(fact)"
   ]
  },
  {
   "cell_type": "code",
   "execution_count": 30,
   "metadata": {},
   "outputs": [
    {
     "name": "stdout",
     "output_type": "stream",
     "text": [
      "4\n"
     ]
    }
   ],
   "source": [
    "vowels=[\"a\",\"e\",\"i\",\"o\",\"u\"]\n",
    "char=\"mohamed\"\n",
    "count=0\n",
    "for i in char:\n",
    "    if i not in vowels:\n",
    "        count += 1\n",
    "print(count)"
   ]
  },
  {
   "cell_type": "code",
   "execution_count": null,
   "metadata": {},
   "outputs": [],
   "source": []
  },
  {
   "cell_type": "code",
   "execution_count": 31,
   "metadata": {},
   "outputs": [
    {
     "name": "stdout",
     "output_type": "stream",
     "text": [
      "Vowels: ['o', 'a', 'e']\n",
      "Number of vowels: 3\n",
      "Number of consonants: 4\n"
     ]
    }
   ],
   "source": [
    "vowels = [\"a\", \"e\", \"i\", \"o\", \"u\"]\n",
    "char = \"mohamed\"\n",
    "count_vowel = 0\n",
    "count_consonant = 0\n",
    "vowel_list = []\n",
    "\n",
    "for i in char:\n",
    "    if i in vowels:\n",
    "        count_vowel += 1\n",
    "        vowel_list.append(i)  # Store vowels\n",
    "    else:\n",
    "        count_consonant += 1  # Count consonants\n",
    "\n",
    "# Print vowels and their count\n",
    "print(\"Vowels:\", vowel_list)\n",
    "print(\"Number of vowels:\", count_vowel)\n",
    "\n",
    "# Print consonant count\n",
    "print(\"Number of consonants:\", count_consonant)\n"
   ]
  },
  {
   "cell_type": "code",
   "execution_count": 42,
   "metadata": {},
   "outputs": [
    {
     "name": "stdout",
     "output_type": "stream",
     "text": [
      "['g', 'k', 'l'] 3 "
     ]
    }
   ],
   "source": [
    "vowels = [\"a\", \"e\", \"i\", \"o\", \"u\"]\n",
    "char=\"gokul\"\n",
    "count=0\n",
    "vowels_list=[]\n",
    "for i in char:\n",
    "    if i not in vowels:\n",
    "        count += 1\n",
    "        vowels_list.append(i) # Count consonants\n",
    "print(vowels_list, count , end=\" \")\n"
   ]
  },
  {
   "cell_type": "code",
   "execution_count": 44,
   "metadata": {},
   "outputs": [
    {
     "name": "stdout",
     "output_type": "stream",
     "text": [
      "53\n"
     ]
    }
   ],
   "source": [
    "char = '5'\n",
    "print(ord(char))  # Output: 65\n"
   ]
  },
  {
   "cell_type": "code",
   "execution_count": 46,
   "metadata": {},
   "outputs": [
    {
     "name": "stdout",
     "output_type": "stream",
     "text": [
      "6\n",
      "7\n",
      "8\n"
     ]
    }
   ],
   "source": [
    "n=[1,2,3,4,5,9]\n",
    "for i in range(1,10):\n",
    "    if i not in n:\n",
    "        print(i)"
   ]
  },
  {
   "cell_type": "code",
   "execution_count": 52,
   "metadata": {},
   "outputs": [
    {
     "name": "stdout",
     "output_type": "stream",
     "text": [
      "The number of even numbers is: 3\n",
      "The number of odd numbers is: 2\n"
     ]
    }
   ],
   "source": [
    "even_count = 0\n",
    "odd_count = 0\n",
    "numbers = [int(input(f\"Enter number {i+1}: \")) for i in range(5)]\n",
    "\n",
    "for num in numbers:\n",
    "    if num % 2 == 0:\n",
    "        even_count += 1\n",
    "    else:\n",
    "        odd_count += 1\n",
    "\n",
    "print(f\"The number of even numbers is: {even_count}\")\n",
    "print(f\"The number of odd numbers is: {odd_count}\")\n"
   ]
  },
  {
   "cell_type": "code",
   "execution_count": 59,
   "metadata": {},
   "outputs": [
    {
     "name": "stdout",
     "output_type": "stream",
     "text": [
      "[1, 3, 5]\n"
     ]
    }
   ],
   "source": [
    "def find_unique(arr):\n",
    "    return [x for x in arr if arr.count(x) == 1]\n",
    "\n",
    "# Example usage\n",
    "arr = [1, 2, 2, 3, 4, 4, 5]\n",
    "unique_values = find_unique(arr)\n",
    "print(unique_values)  # Output: [1, 3, 5]\n"
   ]
  },
  {
   "cell_type": "code",
   "execution_count": 11,
   "metadata": {},
   "outputs": [
    {
     "name": "stdout",
     "output_type": "stream",
     "text": [
      "* * * * \n",
      "* * * \n",
      "* * \n",
      "* \n",
      "\n"
     ]
    }
   ],
   "source": [
    "for i in range(5):  \n",
    "    for j in range(-5, -i -1):  \n",
    "        print(\"*\", end=\" \")  \n",
    "    print()  # Moves to the next line\n"
   ]
  },
  {
   "cell_type": "code",
   "execution_count": 15,
   "metadata": {},
   "outputs": [
    {
     "name": "stdout",
     "output_type": "stream",
     "text": [
      "0\n",
      "1\n",
      "2\n",
      "3\n",
      "4\n"
     ]
    }
   ],
   "source": [
    "n=5\n",
    "for i in range(n):\n",
    "    for s in range(0,i+1):\n",
    "        for j in range(n):\n",
    "            n += 1\n",
    "        print(\"\",end=\"\")\n",
    "    print(i)"
   ]
  }
 ],
 "metadata": {
  "kernelspec": {
   "display_name": "Python 3",
   "language": "python",
   "name": "python3"
  },
  "language_info": {
   "codemirror_mode": {
    "name": "ipython",
    "version": 3
   },
   "file_extension": ".py",
   "mimetype": "text/x-python",
   "name": "python",
   "nbconvert_exporter": "python",
   "pygments_lexer": "ipython3",
   "version": "3.13.1"
  }
 },
 "nbformat": 4,
 "nbformat_minor": 2
}
